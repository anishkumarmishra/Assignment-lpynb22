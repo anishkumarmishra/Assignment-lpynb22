{
  "nbformat": 4,
  "nbformat_minor": 0,
  "metadata": {
    "colab": {
      "provenance": []
    },
    "kernelspec": {
      "name": "python3",
      "display_name": "Python 3"
    },
    "language_info": {
      "name": "python"
    }
  },
  "cells": [
    {
      "cell_type": "markdown",
      "source": [
        "###1. What is the result of the code, and explain?\n",
        ">>> X = 'iNeuron'\n",
        "\n",
        ">>> def func():\n",
        "\n",
        "print(X)\n",
        "\n",
        ">>> func()\n",
        "\n",
        "###Ans:\n",
        "The Result of this code is iNeuron, it's because the function intially looks for the variable X in its local scope,But since there is no local variable X, its returns the value of global variable x ie Anish"
      ],
      "metadata": {
        "id": "-qxk95FnGvA7"
      }
    },
    {
      "cell_type": "code",
      "source": [
        "X = 'Anish'\n",
        "def func():\n",
        "    print(X)\n",
        "func()"
      ],
      "metadata": {
        "colab": {
          "base_uri": "https://localhost:8080/"
        },
        "id": "UkrWFkFLHAi8",
        "outputId": "96466c5a-29f8-44a9-9243-9c3b5b1147a1"
      },
      "execution_count": 2,
      "outputs": [
        {
          "output_type": "stream",
          "name": "stdout",
          "text": [
            "Anish\n"
          ]
        }
      ]
    },
    {
      "cell_type": "markdown",
      "source": [
        "###2. What is the result of the code, and explain?\n",
        "\n",
        ">>> X = 'iNeuron'\n",
        "\n",
        ">>> def func():\n",
        "\n",
        "X = 'NI!'\n",
        "\n",
        ">>> func()\n",
        "\n",
        ">>> print(X)\n",
        "\n",
        "###Ans:\n",
        "The Result of this cide is AN!, because the function initially looks for the variable X in its local scope if X is not available then it checks for variable X in the global scope, Since here the X is present in the local scope. it prints the value AN!"
      ],
      "metadata": {
        "id": "er5sYwB8HI0d"
      }
    },
    {
      "cell_type": "code",
      "source": [
        "X = 'Anish'\n",
        "def func():\n",
        "    X = 'AN!'\n",
        "    print(X)\n",
        "func()"
      ],
      "metadata": {
        "colab": {
          "base_uri": "https://localhost:8080/"
        },
        "id": "pCCNFSgoHUYF",
        "outputId": "23887570-7637-4ff7-8891-4a9e44f6da8d"
      },
      "execution_count": 3,
      "outputs": [
        {
          "output_type": "stream",
          "name": "stdout",
          "text": [
            "AN!\n"
          ]
        }
      ]
    },
    {
      "cell_type": "markdown",
      "source": [
        "###3. What does this code print, and why?\n",
        ">>> X = 'anish'\n",
        "\n",
        ">>> def func():\n",
        "\n",
        "X = 'An'\n",
        "\n",
        "print(X)\n",
        "\n",
        ">>> func()\n",
        "\n",
        ">>> print(X)\n",
        "\n",
        "###Ans:\n",
        "The output of the code is AN and anish. X=AN is in the local scope of the function func() hence the function prints the x value as AN. X = 'anish' is in the global scope. hence print(X) prints output as anish"
      ],
      "metadata": {
        "id": "D0eSafUvHaK9"
      }
    },
    {
      "cell_type": "code",
      "source": [
        "X = 'anish'\n",
        "def func():\n",
        "    X = 'AN'\n",
        "    print(X)\n",
        "func()\n",
        "print(X)"
      ],
      "metadata": {
        "colab": {
          "base_uri": "https://localhost:8080/"
        },
        "id": "nlOy09fNIC9M",
        "outputId": "0fae528b-2789-4078-d422-d0cd5233225d"
      },
      "execution_count": 4,
      "outputs": [
        {
          "output_type": "stream",
          "name": "stdout",
          "text": [
            "AN\n",
            "anish\n"
          ]
        }
      ]
    },
    {
      "cell_type": "markdown",
      "source": [
        "###4. What output does this code produce? Why?\n",
        "\n",
        ">>> X = 'anish'\n",
        "\n",
        ">>> def func():\n",
        "\n",
        "global X\n",
        "\n",
        "X = 'AN'\n",
        "\n",
        ">>> func()\n",
        "\n",
        ">>> print(X)\n",
        "\n",
        "###Ans:\n",
        "The output of the code is AN. the global keyword allows a variable to be accessible in the current scope. since we are using global keyword inside the function func it directly access the variable in X in global scope. and changes its value to AN. hence the output of the code is AN"
      ],
      "metadata": {
        "id": "_1WtRvRyIQCj"
      }
    },
    {
      "cell_type": "code",
      "source": [
        "X = 'anish'\n",
        "def func():\n",
        "    global X\n",
        "    X = 'AN'\n",
        "func()\n",
        "print(X)"
      ],
      "metadata": {
        "colab": {
          "base_uri": "https://localhost:8080/"
        },
        "id": "kFbBI8k3In31",
        "outputId": "aec61b69-38e0-4e5e-e63c-56b1bfb09692"
      },
      "execution_count": 6,
      "outputs": [
        {
          "output_type": "stream",
          "name": "stdout",
          "text": [
            "AN\n"
          ]
        }
      ]
    },
    {
      "cell_type": "markdown",
      "source": [
        "###5. What about this code—what’s the output, and why?\n",
        "\n",
        ">>> X = 'iNeuron'\n",
        "\n",
        ">>> def func():\n",
        "\n",
        "X = 'NI'\n",
        "\n",
        "def nested():\n",
        "\n",
        "print(X)\n",
        "\n",
        "nested()\n",
        "\n",
        ">>> func()\n",
        "\n",
        ">>> X\n",
        "\n",
        "###Ans:\n",
        "The output of the code is AN. the reason for this output is if a function wants to access a variable, if its not available in its localscope. it looks for the variable in its global scope. similarly here also function nested looks for variable X in its global scope. hence the output of the code is AN"
      ],
      "metadata": {
        "id": "eJCnzhDGIuKU"
      }
    },
    {
      "cell_type": "code",
      "source": [
        "X = 'anish'\n",
        "def func():\n",
        "    X = 'AN'\n",
        "    def nested():\n",
        "        print(X)\n",
        "    nested()\n",
        "func()\n",
        "X"
      ],
      "metadata": {
        "colab": {
          "base_uri": "https://localhost:8080/",
          "height": 53
        },
        "id": "CW5isZmfI9uE",
        "outputId": "5ba2f30d-f86f-45a8-eac3-a62d7c2f3282"
      },
      "execution_count": 8,
      "outputs": [
        {
          "output_type": "stream",
          "name": "stdout",
          "text": [
            "AN\n"
          ]
        },
        {
          "output_type": "execute_result",
          "data": {
            "text/plain": [
              "'anish'"
            ],
            "application/vnd.google.colaboratory.intrinsic+json": {
              "type": "string"
            }
          },
          "metadata": {},
          "execution_count": 8
        }
      ]
    },
    {
      "cell_type": "markdown",
      "source": [
        "###6. How about this code: what is its output in Python 3, and explain?\n",
        "\n",
        ">>> def func():\n",
        "\n",
        "X = 'AN'\n",
        "\n",
        "def nested():\n",
        "\n",
        "nonlocal X\n",
        "\n",
        "X = 'Spam'\n",
        "\n",
        "nested()\n",
        "\n",
        "print(X)\n",
        "\n",
        ">>> func()\n",
        "\n",
        "###Ans:\n",
        "The output of the code is Spam. nonlocal keyword in python is used to declare a variable as not local.Hence the statement X = \"Spam\" is modified in the global scope. hence the output of print(X) statement is Spam"
      ],
      "metadata": {
        "id": "Sg1IXAjIJErs"
      }
    },
    {
      "cell_type": "code",
      "source": [
        "def func():\n",
        "    X = 'NI'\n",
        "    def nested():\n",
        "        nonlocal X\n",
        "        X = 'Spam'\n",
        "    nested()\n",
        "    print(X)\n",
        "func()"
      ],
      "metadata": {
        "colab": {
          "base_uri": "https://localhost:8080/"
        },
        "id": "8iymIHTeJOWl",
        "outputId": "6af3ffcd-dfb1-4c00-89fb-7b925be0dc7b"
      },
      "execution_count": 9,
      "outputs": [
        {
          "output_type": "stream",
          "name": "stdout",
          "text": [
            "Spam\n"
          ]
        }
      ]
    }
  ]
}